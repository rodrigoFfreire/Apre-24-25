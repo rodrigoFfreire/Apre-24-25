{
 "cells": [
  {
   "cell_type": "markdown",
   "metadata": {},
   "source": [
    "# Dependencies"
   ]
  },
  {
   "cell_type": "code",
   "execution_count": null,
   "metadata": {
    "execution": {
     "iopub.execute_input": "2024-10-24T21:30:25.193638Z",
     "iopub.status.busy": "2024-10-24T21:30:25.193352Z",
     "iopub.status.idle": "2024-10-24T21:30:42.096338Z",
     "shell.execute_reply": "2024-10-24T21:30:42.095227Z",
     "shell.execute_reply.started": "2024-10-24T21:30:25.193607Z"
    }
   },
   "outputs": [],
   "source": [
    "%pip install numpy\n",
    "%pip install pandas\n",
    "%pip install matplotlib\n",
    "%pip install scikit-learn\n",
    "%pip install scipy\n",
    "%pip install seaborn"
   ]
  },
  {
   "cell_type": "markdown",
   "metadata": {},
   "source": [
    "# Ex 1.\n",
    "\n",
    "> Refer to the report for the justifications"
   ]
  },
  {
   "cell_type": "markdown",
   "metadata": {},
   "source": [
    "### a)\n",
    "Using sklearn, apply $k$-means clustering (without targets) on the normalized data \\\n",
    "with $k=\\{2,3,4,5,6,7,8\\}$, $\\texttt{max\\_iter=500}$ and $\\texttt{random\\_state=42}$. \\\n",
    "Plot the different sum of squared errors (SSE) using the $\\texttt{\\_inertia}$ attribute \\\n",
    "of $k$-means according to the number of clusters."
   ]
  },
  {
   "cell_type": "code",
   "execution_count": null,
   "metadata": {
    "execution": {
     "iopub.execute_input": "2024-10-26T11:39:08.108905Z",
     "iopub.status.busy": "2024-10-26T11:39:08.107114Z",
     "iopub.status.idle": "2024-10-26T11:39:09.126674Z",
     "shell.execute_reply": "2024-10-26T11:39:09.125503Z",
     "shell.execute_reply.started": "2024-10-26T11:39:08.108829Z"
    }
   },
   "outputs": [],
   "source": [
    "# Ex 1.a\n",
    "import pandas as pd\n",
    "from sklearn.preprocessing import MinMaxScaler\n",
    "from sklearn.cluster import KMeans\n",
    "import matplotlib.pyplot as plt\n",
    "\n",
    "# Carregar o dataset\n",
    "file_path = 'accounts.csv'\n",
    "df = pd.read_csv(file_path)\n",
    "\n",
    "# Selecionar as primeiras 8 features\n",
    "df_selected = df.iloc[:, :8]\n",
    "\n",
    "# Remover duplicados e valores nulos\n",
    "df_cleaned = df_selected.drop_duplicates().dropna()\n",
    "\n",
    "# Converter as variáveis categóricas em variáveis dummy\n",
    "df_dummies = pd.get_dummies(df_cleaned, drop_first=True)\n",
    "\n",
    "# Normalizar os dados usando o MinMaxScaler\n",
    "scaler = MinMaxScaler()\n",
    "df_normalized = scaler.fit_transform(df_dummies)\n",
    "\n",
    "# Definir os valores de k\n",
    "k_values = [2, 3, 4, 5, 6, 7, 8]\n",
    "sse = []\n",
    "\n",
    "# Aplicar k-means clustering para cada valor de k e armazenar o SSE (inércia)\n",
    "for k in k_values:\n",
    "    kmeans = KMeans(n_clusters=k, max_iter=500, random_state=42)\n",
    "    kmeans.fit(df_normalized)\n",
    "    sse.append(kmeans.inertia_)\n",
    "\n",
    "# Plotar os erros quadráticos somados (SSE)\n",
    "plt.figure(figsize=(8, 6))\n",
    "plt.plot(k_values, sse, marker='o')\n",
    "plt.xlabel('Number of clusters (k)')\n",
    "plt.ylabel('Sum of Squared Errors (SSE)')\n",
    "plt.title('SSE vs. Number of Clusters for k-means')\n",
    "plt.grid(True)\n",
    "plt.show()\n"
   ]
  },
  {
   "cell_type": "markdown",
   "metadata": {},
   "source": [
    "### b)\n",
    "According to the previous plot, how many underlying customer segments (clusters) \\\n",
    "should there be ? Explain based on the trade off between the clusters and inertia."
   ]
  },
  {
   "cell_type": "markdown",
   "metadata": {},
   "source": [
    "### c)\n",
    "Would $k$-modes be a better clustering approach? Explain why based on the dataset features."
   ]
  },
  {
   "cell_type": "markdown",
   "metadata": {},
   "source": [
    "# Ex 2.\n",
    "\n",
    "> Refer to the report for the justifications"
   ]
  },
  {
   "cell_type": "markdown",
   "metadata": {},
   "source": [
    "### a)\n",
    "Apply PCA to the data. How much variability is explained by the top 2 components?"
   ]
  },
  {
   "cell_type": "code",
   "execution_count": null,
   "metadata": {
    "execution": {
     "iopub.execute_input": "2024-10-26T11:58:34.388073Z",
     "iopub.status.busy": "2024-10-26T11:58:34.386543Z",
     "iopub.status.idle": "2024-10-26T11:58:34.530378Z",
     "shell.execute_reply": "2024-10-26T11:58:34.529544Z",
     "shell.execute_reply.started": "2024-10-26T11:58:34.388017Z"
    }
   },
   "outputs": [],
   "source": [
    "# Ex 2.a\n",
    "\n",
    "import pandas as pd\n",
    "import numpy as np\n",
    "from sklearn.preprocessing import StandardScaler\n",
    "from sklearn.decomposition import PCA\n",
    "\n",
    "# Carregar o dataset\n",
    "file_path = 'accounts.csv'\n",
    "df = pd.read_csv(file_path)\n",
    "\n",
    "# Selecionar as primeiras 8 features\n",
    "df_selected = df.iloc[:, :8]\n",
    "\n",
    "# Remover duplicados e valores nulos\n",
    "df_cleaned = df_selected.drop_duplicates().dropna()\n",
    "\n",
    "# Converter as variáveis categóricas em variáveis dummy\n",
    "df_dummies = pd.get_dummies(df_cleaned, drop_first=True)\n",
    "\n",
    "scaler = StandardScaler()\n",
    "X_scaled = scaler.fit_transform(df_dummies)\n",
    "\n",
    "# Apply PCA\n",
    "pca = PCA()\n",
    "X_pca = pca.fit_transform(X_scaled)\n",
    "\n",
    "# Calculate explained variance ratio\n",
    "explained_variance_ratio = pca.explained_variance_ratio_\n",
    "cumulative_variance_ratio = np.cumsum(explained_variance_ratio)\n",
    "\n",
    "# Get variance explained by first 2 components\n",
    "variance_first_2 = np.sum(explained_variance_ratio[:2])\n",
    "\n",
    "print(f\"Variance explained by first 2 components: {variance_first_2:.4f}\")\n",
    "print(f\"Individual component variances:\")\n",
    "print(f\"PC1: {explained_variance_ratio[0]:.4f}\")\n",
    "print(f\"PC2: {explained_variance_ratio[1]:.4f}\")"
   ]
  },
  {
   "cell_type": "markdown",
   "metadata": {},
   "source": [
    "### b)\n",
    "Apply $k$-means clustering with $k=3$ and $\\texttt{random\\_state=42}$ \\\n",
    "(all other arguments as default) and use the original 8 features. \\\n",
    "Next, provide a scatterplot according to the first 2 principal components. \\\n",
    "Can we clearly separate the clusters? Justify."
   ]
  },
  {
   "cell_type": "code",
   "execution_count": null,
   "metadata": {
    "execution": {
     "iopub.execute_input": "2024-10-26T15:36:41.574734Z",
     "iopub.status.busy": "2024-10-26T15:36:41.568413Z",
     "iopub.status.idle": "2024-10-26T15:36:42.447648Z",
     "shell.execute_reply": "2024-10-26T15:36:42.446064Z",
     "shell.execute_reply.started": "2024-10-26T15:36:41.574558Z"
    }
   },
   "outputs": [],
   "source": [
    "# Ex 4.b\n",
    "\n",
    "import pandas as pd\n",
    "from sklearn.preprocessing import StandardScaler\n",
    "from sklearn.cluster import KMeans\n",
    "from sklearn.decomposition import PCA\n",
    "import matplotlib.pyplot as plt\n",
    "\n",
    "# 1. Carregar o dataset e selecionar as primeiras 8 features\n",
    "data = pd.read_csv('accounts.csv')\n",
    "features = data.iloc[:, :8]\n",
    "\n",
    "# 2. Remover duplicados e valores nulos\n",
    "features_cleaned = features.drop_duplicates().dropna()\n",
    "\n",
    "# 3. Aplicar get_dummies para variáveis categóricas\n",
    "features_encoded = pd.get_dummies(features_cleaned, drop_first=True)\n",
    "\n",
    "# 4. Normalização dos dados\n",
    "scaler = StandardScaler()\n",
    "features_normalized = scaler.fit_transform(features_encoded)\n",
    "\n",
    "# 5. Aplicar K-means com k=3\n",
    "kmeans = KMeans(n_clusters=3, random_state=42)\n",
    "y_pred = kmeans.fit_predict(features_normalized)\n",
    "\n",
    "# 6. Redução dimensional para 2D com PCA\n",
    "pca = PCA(n_components=2)\n",
    "principal_components = pca.fit_transform(features_normalized)\n",
    "\n",
    "# 7. Visualização do scatterplot dos clusters\n",
    "plt.figure(figsize=(10, 7))\n",
    "\n",
    "colors = (\"red\", \"green\", \"blue\")\n",
    "groups = (\"Cluster 0\", \"Cluster 1\", \"Cluster 2\")\n",
    "for i in range(3):\n",
    "    plt.scatter(\n",
    "        principal_components[y_pred == i, 0],\n",
    "        principal_components[y_pred == i, 1],\n",
    "        alpha=0.8,\n",
    "        color=colors[i],\n",
    "        label=groups[i]\n",
    "    )\n",
    "plt.xlabel('Principal Component 1')\n",
    "plt.ylabel('Principal Component 2')\n",
    "plt.title('Scatterplot of Clusters in the First Two Principal Components')\n",
    "plt.legend(loc=2)\n",
    "plt.show()\n"
   ]
  },
  {
   "cell_type": "markdown",
   "metadata": {},
   "source": [
    "### c)\n",
    "Plot the cluster conditional features of the frequencies of \"job\" and \"education\" \\\n",
    "according to the clusters obtained in the previous question (2b.). \\\n",
    "Use $\\texttt{sns.distplot}$ with $\\texttt{multiple=\"dodge\", stat='density', shrink=0.8}$ and \\\n",
    "$\\texttt{common\\_norm=False}$. Describe the main differences between the clusters in no more than half a page."
   ]
  },
  {
   "cell_type": "code",
   "execution_count": null,
   "metadata": {},
   "outputs": [],
   "source": [
    "import seaborn as sns\n",
    "\n",
    "features_cleaned['Cluster'] = y_pred\n",
    "\n",
    "grouped_by_job = features_cleaned.groupby(['Cluster', 'job']).size().unstack(fill_value=0)\n",
    "grouped_by_education = features_cleaned.groupby(['Cluster', 'education']).size().unstack(fill_value=0)\n",
    "\n",
    "job_freqs = grouped_by_job.reset_index().melt(id_vars='Cluster', var_name='job', value_name='frequency')\n",
    "education_freqs = grouped_by_education.reset_index().melt(id_vars='Cluster', var_name='education', value_name='frequency')\n",
    "\n",
    "# Plot job frequencies per cluster\n",
    "sns.displot(\n",
    "    data=job_freqs, \n",
    "    x='job', \n",
    "    hue='Cluster', \n",
    "    weights='frequency', \n",
    "    multiple=\"dodge\", \n",
    "    stat=\"density\", \n",
    "    shrink=0.8, \n",
    "    common_norm=False\n",
    ")\n",
    "plt.title(\"Cluster-Conditional Frequencies of 'Job'\")\n",
    "plt.xticks(rotation=45)\n",
    "plt.show()\n",
    "\n",
    "# Plot education frequencies per cluster\n",
    "sns.displot(\n",
    "    data=education_freqs, \n",
    "    x='education', \n",
    "    hue='Cluster', \n",
    "    weights='frequency', \n",
    "    multiple=\"dodge\", \n",
    "    stat=\"density\", \n",
    "    shrink=0.8, \n",
    "    common_norm=False\n",
    ")\n",
    "plt.title(\"Cluster-Conditional Frequencies of 'Education'\")\n",
    "plt.xticks(rotation=45)\n",
    "plt.show()"
   ]
  }
 ],
 "metadata": {
  "kernelspec": {
   "display_name": "Python 3 (ipykernel)",
   "language": "python",
   "name": "python3"
  },
  "language_info": {
   "codemirror_mode": {
    "name": "ipython",
    "version": 3
   },
   "file_extension": ".py",
   "mimetype": "text/x-python",
   "name": "python",
   "nbconvert_exporter": "python",
   "pygments_lexer": "ipython3",
   "version": "3.12.5"
  }
 },
 "nbformat": 4,
 "nbformat_minor": 4
}
