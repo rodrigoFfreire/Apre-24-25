{
 "cells": [
  {
   "cell_type": "markdown",
   "metadata": {},
   "source": [
    "# Dependencies"
   ]
  },
  {
   "cell_type": "code",
   "execution_count": null,
   "metadata": {},
   "outputs": [],
   "source": [
    "%pip install numpy\n",
    "%pip install pandas\n",
    "%pip install matplotlib\n",
    "%pip install scikit-learn\n",
    "%pip install scipy\n",
    "%pip install seaborn"
   ]
  },
  {
   "cell_type": "markdown",
   "metadata": {},
   "source": [
    "# Ex 1.\n",
    "Select the first 8 features and remove duplicates and null values. Normalize the data \\\n",
    "using MinMaxScaler. Using $\\texttt{sklearn}$, apply $k$-means randomly initialized, \\\n",
    "using $\\texttt{max\\_iter = 500}$ and $\\texttt{random\\_state = 42}$. Plot the different \\\n",
    "sum of squared errors (SSE) using the $\\texttt{\\_inertia}$ attribute of $k$-means according to the number of clusters."
   ]
  },
  {
   "cell_type": "code",
   "execution_count": null,
   "metadata": {},
   "outputs": [],
   "source": [
    "# Ex 1"
   ]
  },
  {
   "cell_type": "markdown",
   "metadata": {},
   "source": [
    "# Ex 2.\n",
    "According to the previous plot, how many underlying customer segments (clusters) \\\n",
    "should there be ? Explain based on the trade off between the clusters and inertia.\n",
    "\n",
    "> Refer to the report for the justification"
   ]
  },
  {
   "cell_type": "code",
   "execution_count": null,
   "metadata": {},
   "outputs": [],
   "source": [
    "# Ex 2"
   ]
  },
  {
   "cell_type": "markdown",
   "metadata": {},
   "source": [
    "# Ex 3.\n",
    "Would $k$-modes be a better clustering approach? Explain why based on the dataset features.\n",
    "\n",
    "> Refer to the report for the justification"
   ]
  },
  {
   "cell_type": "code",
   "execution_count": null,
   "metadata": {},
   "outputs": [],
   "source": [
    "# Ex 3"
   ]
  },
  {
   "cell_type": "markdown",
   "metadata": {},
   "source": [
    "# Ex 4.\n",
    "Apply PCA to the data :\n",
    "\n",
    "> Refer to the report for the justifications"
   ]
  },
  {
   "cell_type": "markdown",
   "metadata": {},
   "source": [
    "### a)\n",
    "Use $\\texttt{StandardScaler}$ to scale the data before you apply $\\texttt{fit\\_transform}$. \\\n",
    "How much variability is explained by the top 2 components?"
   ]
  },
  {
   "cell_type": "code",
   "execution_count": null,
   "metadata": {},
   "outputs": [],
   "source": [
    "# Ex 4.a"
   ]
  },
  {
   "cell_type": "markdown",
   "metadata": {},
   "source": [
    "### b)\n",
    "Provide a scatterplot according to the first 2 principal components and color the \\\n",
    "points according to $k=3$ clusters. Can we clearly separate the clusters? Justify."
   ]
  },
  {
   "cell_type": "code",
   "execution_count": null,
   "metadata": {},
   "outputs": [],
   "source": [
    "# Ex 4.b"
   ]
  },
  {
   "cell_type": "markdown",
   "metadata": {},
   "source": [
    "# Ex 5.\n",
    "Plot the cluster conditional features of the frequencies of \"job\" and \"education\" \\\n",
    "according to $k$-means, with $\\texttt{multiple='dodge', stat='density', shrink=0.8, common\\_norm=False}$. \\\n",
    "Analyse the frequency plots using $\\texttt{sns.displot}$. \\\n",
    "Describe the main differences between the clusters in no more than half page.\n",
    "\n",
    "> Refer to the report for the written answer"
   ]
  },
  {
   "cell_type": "code",
   "execution_count": null,
   "metadata": {},
   "outputs": [],
   "source": [
    "# Ex 5\n"
   ]
  }
 ],
 "metadata": {
  "kernelspec": {
   "display_name": ".venv",
   "language": "python",
   "name": "python3"
  },
  "language_info": {
   "name": "python",
   "version": "3.12.5"
  }
 },
 "nbformat": 4,
 "nbformat_minor": 2
}
