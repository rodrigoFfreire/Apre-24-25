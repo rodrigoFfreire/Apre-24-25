{
 "cells": [
  {
   "cell_type": "markdown",
   "metadata": {},
   "source": [
    "1. ANOVA is a statistical test that can be used to assess the discriminative power of a \\\n",
    "single input variable. Using `f_classif` from `sklearn`, identify the input variables with the \\\n",
    "worst and best discriminative power. Plot their class-conditional probability density \\\n",
    "functions."
   ]
  },
  {
   "cell_type": "code",
   "execution_count": null,
   "metadata": {},
   "outputs": [],
   "source": []
  }
 ],
 "metadata": {
  "kernelspec": {
   "display_name": ".venv",
   "language": "python",
   "name": "python3"
  },
  "language_info": {
   "name": "python",
   "version": "3.12.5"
  }
 },
 "nbformat": 4,
 "nbformat_minor": 2
}
