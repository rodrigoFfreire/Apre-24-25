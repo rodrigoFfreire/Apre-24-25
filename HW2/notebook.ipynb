{
 "cells": [
  {
   "cell_type": "markdown",
   "metadata": {},
   "source": [
    "# Installing Dependencies"
   ]
  },
  {
   "cell_type": "code",
   "execution_count": null,
   "metadata": {},
   "outputs": [],
   "source": [
    "%pip install numpy\n",
    "%pip install pandas\n",
    "%pip install matplotlib\n",
    "%pip install scikit-learn\n",
    "%pip install scipy"
   ]
  },
  {
   "cell_type": "markdown",
   "metadata": {},
   "source": [
    "# Ex 1.\n",
    "\n",
    "Compare the performance of a $kNN$ with $k = 5$ and a naïve Bayes with Gaussian \\\n",
    "assumption (consider all remaining parameters as default):"
   ]
  },
  {
   "cell_type": "markdown",
   "metadata": {},
   "source": [
    "### a)\n",
    "Plot two boxplots with the fold accuracies for each classifier. Is there one \\\n",
    "more stable than the other regarding performance? Why do you think that is the \\\n",
    "case? Explain. \n",
    "> (**Refer to the report for the explanation**)"
   ]
  },
  {
   "cell_type": "code",
   "execution_count": null,
   "metadata": {},
   "outputs": [],
   "source": [
    "# Code for a)"
   ]
  },
  {
   "cell_type": "markdown",
   "metadata": {},
   "source": [
    "### b)\n",
    "Report the accuracy of both models, this time scaling the data with a \\\n",
    "Min-Max scaler before training the models. Explain the impact that this \\\n",
    "preprocessing step has on the performance of each model, providing an \\\n",
    "explanation for the results. \n",
    "> (**Refer to the report for the explanation**)"
   ]
  },
  {
   "cell_type": "code",
   "execution_count": null,
   "metadata": {},
   "outputs": [],
   "source": [
    "# Code for b)"
   ]
  },
  {
   "cell_type": "markdown",
   "metadata": {},
   "source": [
    "### c)\n",
    "Using `scipy`, test the hypothesis “the $kNN$ model is statistically superior to \\\n",
    "naïve Bayes regarding accuracy”, asserting whether it is true.\n",
    "> (**Refer to the report for the explanation**)"
   ]
  },
  {
   "cell_type": "code",
   "execution_count": null,
   "metadata": {},
   "outputs": [],
   "source": [
    "# Code for c)"
   ]
  },
  {
   "cell_type": "markdown",
   "metadata": {},
   "source": [
    "# Ex 2.\n",
    "Using a 80-20 train-test split, vary the number of neighbors of a $kNN$ classifier using \\\n",
    "$k = \\{1, 5, 10, 20, 30\\}$. Additionally, for each $k$, train one classifier using uniform weights \\\n",
    "and distance weights."
   ]
  },
  {
   "cell_type": "markdown",
   "metadata": {},
   "source": [
    "### a)\n",
    "Plot the train and test accuracy for each model"
   ]
  },
  {
   "cell_type": "code",
   "execution_count": null,
   "metadata": {},
   "outputs": [],
   "source": [
    "import pandas as pd\n",
    "import matplotlib.pyplot as plt\n",
    "from sklearn.model_selection import train_test_split\n",
    "from sklearn.metrics import accuracy_score\n",
    "from sklearn.neighbors import KNeighborsClassifier\n",
    "\n",
    "\n",
    "# Create dataframe from heart-disease.csv\n",
    "df = pd.read_csv('./heart-disease.csv', sep=',')\n",
    "\n",
    "X = df.drop('target', axis=1) # Input variables\n",
    "y = df['target'] # Target variable\n",
    "\n",
    "# Split dataset into a 80-20 training set\n",
    "X_train, X_test, y_train, y_test = train_test_split(X.values, y, train_size=0.8, random_state=0)\n",
    "\n",
    "k_values = [1, 5, 10, 20, 30]\n",
    "uni_weights_train_accuracies = []\n",
    "dist_weights_train_accuracies = []\n",
    "\n",
    "uni_weights_test_accuracies = []\n",
    "dist_weights_test_accuracies = []\n",
    "\n",
    "for k in k_values:\n",
    "    # Create classifiers: Uniform weights and Distance weights\n",
    "    uni_weights_clf = KNeighborsClassifier(n_neighbors=k, weights='uniform')\n",
    "    dist_weights_clf = KNeighborsClassifier(n_neighbors=k, weights='distance')\n",
    "\n",
    "    uni_weights_clf.fit(X_train, y_train)\n",
    "    dist_weights_clf.fit(X_train, y_train)\n",
    "\n",
    "    # Calculate training accuracy\n",
    "    uni_weights_train_accuracies.append(accuracy_score(y_train, uni_weights_clf.predict(X_train)))\n",
    "    dist_weights_train_accuracies.append(accuracy_score(y_train, dist_weights_clf.predict(X_train)))\n",
    "\n",
    "    # Calculate testing accuracy\n",
    "    uni_weights_test_accuracies.append(accuracy_score(y_test, uni_weights_clf.predict(X_test)))\n",
    "    dist_weights_test_accuracies.append(accuracy_score(y_test, dist_weights_clf.predict(X_test)))\n",
    "\n",
    "# Plot the figures\n",
    "plt.figure(figsize=(10, 6))\n",
    "plt.plot(k_values, uni_weights_train_accuracies, label='Training Accuracy', marker='o')\n",
    "plt.plot(k_values, uni_weights_test_accuracies, label='Testing Accuracy', marker='o')\n",
    "plt.xlabel('k value')\n",
    "plt.ylabel('Accuracy')\n",
    "plt.legend()\n",
    "plt.grid(True, which='both', linestyle='--', linewidth=0.5, alpha=0.5)\n",
    "plt.title('Training and Testing Accuracy for multiple kNN classifiers with uniform weights')\n",
    "plt.show()\n",
    "\n",
    "plt.figure(figsize=(10, 6))\n",
    "plt.plot(k_values, dist_weights_train_accuracies, label='Training Accuracy', marker='o')\n",
    "plt.plot(k_values, dist_weights_test_accuracies, label='Testing Accuracy', marker='o')\n",
    "plt.xlabel('k value')\n",
    "plt.ylabel('Accuracy')\n",
    "plt.legend()\n",
    "plt.grid(True, which='both', linestyle='--', linewidth=0.5, alpha=0.5)\n",
    "plt.title('Training and Testing Accuracy for multiple kNN classifiers with distance weights')\n",
    "plt.show()"
   ]
  },
  {
   "cell_type": "markdown",
   "metadata": {},
   "source": [
    "### b)\n",
    "Explain the impact of increasing the neighbors on the generalization ability of \\\n",
    "the models.\n",
    "> (**Refer to the report for the explanation**)"
   ]
  },
  {
   "cell_type": "markdown",
   "metadata": {},
   "source": [
    "# Ex 3.\n",
    "Considering the unique properties of the `heart-disease.csv` dataset, identify two\n",
    "possible difficulties of the naïve Bayes model used in the previous exercises when learning\n",
    "from the given dataset.\n",
    "> (**Refer to the report for the explanation**)"
   ]
  }
 ],
 "metadata": {
  "kernelspec": {
   "display_name": ".venv",
   "language": "python",
   "name": "python3"
  },
  "language_info": {
   "codemirror_mode": {
    "name": "ipython",
    "version": 3
   },
   "file_extension": ".py",
   "mimetype": "text/x-python",
   "name": "python",
   "nbconvert_exporter": "python",
   "pygments_lexer": "ipython3",
   "version": "3.12.5"
  }
 },
 "nbformat": 4,
 "nbformat_minor": 2
}
