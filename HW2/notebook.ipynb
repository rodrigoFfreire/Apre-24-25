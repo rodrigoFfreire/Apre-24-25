{
 "cells": [
  {
   "cell_type": "markdown",
   "metadata": {},
   "source": [
    "# Installing Dependencies"
   ]
  },
  {
   "cell_type": "code",
   "execution_count": null,
   "metadata": {},
   "outputs": [],
   "source": [
    "%pip install numpy\n",
    "%pip install pandas\n",
    "%pip install matplotlib\n",
    "%pip install scikit-learn\n",
    "%pip install scipy\n",
    "%pip install seaborn"
   ]
  },
  {
   "cell_type": "markdown",
   "metadata": {},
   "source": [
    "# Ex 1.\n",
    "\n",
    "Compare the performance of a $kNN$ with $k = 5$ and a naïve Bayes with Gaussian \\\n",
    "assumption (consider all remaining parameters as default):"
   ]
  },
  {
   "cell_type": "markdown",
   "metadata": {},
   "source": [
    "### a)\n",
    "Plot two boxplots with the fold accuracies for each classifier. Is there one \\\n",
    "more stable than the other regarding performance? Why do you think that is the \\\n",
    "case? Explain. \n",
    "> (**Refer to the report for the explanation**)"
   ]
  },
  {
   "cell_type": "code",
   "execution_count": 12,
   "metadata": {
    "execution": {
     "iopub.execute_input": "2024-10-05T09:24:12.748906Z",
     "iopub.status.busy": "2024-10-05T09:24:12.748467Z",
     "iopub.status.idle": "2024-10-05T09:24:13.027087Z",
     "shell.execute_reply": "2024-10-05T09:24:13.025977Z",
     "shell.execute_reply.started": "2024-10-05T09:24:12.748877Z"
    }
   },
   "outputs": [
    {
     "data": {
      "image/png": "[encoded data removed]",
      "text/plain": [
       "<Figure size 800x600 with 1 Axes>"
      ]
     },
     "metadata": {},
     "output_type": "display_data"
    }
   ],
   "source": [
    "# Code for a\n",
    "import pandas as pd\n",
    "import numpy as np\n",
    "from sklearn.model_selection import StratifiedKFold\n",
    "from sklearn.neighbors import KNeighborsClassifier\n",
    "from sklearn.naive_bayes import GaussianNB\n",
    "from sklearn.metrics import accuracy_score\n",
    "import matplotlib.pyplot as plt\n",
    "\n",
    "# Load the data\n",
    "data = pd.read_csv('heart-disease.csv')\n",
    "\n",
    "# Separate features and target\n",
    "X = data.drop('target', axis=1)\n",
    "y = data['target']\n",
    "\n",
    "# Initialize models\n",
    "knn = KNeighborsClassifier(n_neighbors=5)\n",
    "nb = GaussianNB()\n",
    "\n",
    "# Initialize StratifiedKFold\n",
    "skf = StratifiedKFold(n_splits=5, shuffle=True, random_state=0)\n",
    "\n",
    "# Initialize lists to store accuracies\n",
    "knn_accuracies = []\n",
    "nb_accuracies = []\n",
    "\n",
    "# Perform cross-validation\n",
    "for train_index, test_index in skf.split(X, y):\n",
    "    X_train, X_test = X.iloc[train_index], X.iloc[test_index]\n",
    "    y_train, y_test = y.iloc[train_index], y.iloc[test_index]\n",
    "    \n",
    "    # Train and evaluate kNN\n",
    "    knn.fit(X_train, y_train)\n",
    "    knn_pred = knn.predict(X_test)\n",
    "    knn_accuracies.append(accuracy_score(y_test, knn_pred))\n",
    "    \n",
    "    # Train and evaluate Naive Bayes\n",
    "    nb.fit(X_train, y_train)\n",
    "    nb_pred = nb.predict(X_test)\n",
    "    nb_accuracies.append(accuracy_score(y_test, nb_pred))\n",
    "\n",
    "# Plot boxplots for both models\n",
    "plt.figure(figsize=(8, 6))\n",
    "plt.boxplot([knn_accuracies, nb_accuracies], tick_labels=['k-NN (k=5)', 'Naive Bayes'])\n",
    "plt.ylabel('Accuracy')\n",
    "plt.title('Comparison of Fold Accuracies between k-NN and Naive Bayes')\n",
    "plt.grid(True)\n",
    "plt.show()\n",
    "\n"
   ]
  },
  {
   "cell_type": "markdown",
   "metadata": {},
   "source": [
    "### b)\n",
    "Report the accuracy of both models, this time scaling the data with a \\\n",
    "Min-Max scaler before training the models. Explain the impact that this \\\n",
    "preprocessing step has on the performance of each model, providing an \\\n",
    "explanation for the results. \n",
    "> (**Refer to the report for the explanation**)"
   ]
  },
  {
   "cell_type": "code",
   "execution_count": 13,
   "metadata": {
    "execution": {
     "iopub.execute_input": "2024-10-05T09:25:31.169788Z",
     "iopub.status.busy": "2024-10-05T09:25:31.168465Z",
     "iopub.status.idle": "2024-10-05T09:25:31.238856Z",
     "shell.execute_reply": "2024-10-05T09:25:31.237759Z",
     "shell.execute_reply.started": "2024-10-05T09:25:31.169757Z"
    }
   },
   "outputs": [
    {
     "name": "stdout",
     "output_type": "stream",
     "text": [
      "k-NN accuracies after scaling: [0.8360655737704918, 0.8032786885245902, 0.8524590163934426, 0.8333333333333334, 0.7833333333333333]\n",
      "Naive Bayes accuracies after scaling: [0.8852459016393442, 0.8032786885245902, 0.8032786885245902, 0.85, 0.8333333333333334]\n"
     ]
    }
   ],
   "source": [
    "# Code for b)\n",
    "from sklearn.preprocessing import MinMaxScaler\n",
    "\n",
    "# Initialize Min-Max Scaler\n",
    "scaler = MinMaxScaler()\n",
    "\n",
    "# Scale the data\n",
    "X_scaled = scaler.fit_transform(X)\n",
    "\n",
    "# Initialize lists to store accuracies after scaling\n",
    "knn_accuracies_scaled = []\n",
    "nb_accuracies_scaled = []\n",
    "\n",
    "# Perform cross-validation with scaled data\n",
    "for train_index, test_index in skf.split(X_scaled, y):\n",
    "    X_train, X_test = X_scaled[train_index], X_scaled[test_index]\n",
    "    y_train, y_test = y.iloc[train_index], y.iloc[test_index]\n",
    "    \n",
    "    # Train and evaluate kNN on scaled data\n",
    "    knn.fit(X_train, y_train)\n",
    "    knn_pred = knn.predict(X_test)\n",
    "    knn_accuracies_scaled.append(accuracy_score(y_test, knn_pred))\n",
    "    \n",
    "    # Train and evaluate Naive Bayes on scaled data\n",
    "    nb.fit(X_train, y_train)\n",
    "    nb_pred = nb.predict(X_test)\n",
    "    nb_accuracies_scaled.append(accuracy_score(y_test, nb_pred))\n",
    "\n",
    "# Report the accuracies\n",
    "print(\"k-NN accuracies after scaling:\", knn_accuracies_scaled)\n",
    "print(\"Naive Bayes accuracies after scaling:\", nb_accuracies_scaled)\n"
   ]
  },
  {
   "cell_type": "markdown",
   "metadata": {},
   "source": [
    "### c)\n",
    "Using `scipy`, test the hypothesis “the $kNN$ model is statistically superior to \\\n",
    "naïve Bayes regarding accuracy”, asserting whether it is true.\n",
    "> (**Refer to the report for the explanation**)"
   ]
  },
  {
   "cell_type": "code",
   "execution_count": 14,
   "metadata": {
    "execution": {
     "iopub.execute_input": "2024-10-05T09:26:07.679642Z",
     "iopub.status.busy": "2024-10-05T09:26:07.678880Z",
     "iopub.status.idle": "2024-10-05T09:26:07.690872Z",
     "shell.execute_reply": "2024-10-05T09:26:07.689605Z",
     "shell.execute_reply.started": "2024-10-05T09:26:07.679612Z"
    }
   },
   "outputs": [
    {
     "name": "stdout",
     "output_type": "stream",
     "text": [
      "Paired t-test results:\n",
      "t-statistic: -6.690315237001677\n",
      "p-value: 0.0025959625559720425\n",
      "Reject the null hypothesis. kNN is statistically different from Naive Bayes.\n",
      "Naive Bayes is statistically superior to kNN.\n"
     ]
    }
   ],
   "source": [
    "# Code for c)\n",
    "# Perform paired t-test\n",
    "t_statistic, p_value = stats.ttest_rel(knn_accuracies, nb_accuracies)\n",
    "\n",
    "print(\"Paired t-test results:\")\n",
    "print(f\"t-statistic: {t_statistic}\")\n",
    "print(f\"p-value: {p_value}\")\n",
    "\n",
    "# Interpret the results\n",
    "alpha = 0.05  # significance level\n",
    "if p_value < alpha:\n",
    "    print(\"Reject the null hypothesis. kNN is statistically different from Naive Bayes.\")\n",
    "    if np.mean(knn_accuracies) > np.mean(nb_accuracies):\n",
    "        print(\"kNN is statistically superior to Naive Bayes.\")\n",
    "    else:\n",
    "        print(\"Naive Bayes is statistically superior to kNN.\")\n",
    "else:\n",
    "    print(\"Fail to reject the null hypothesis. There is not enough evidence to conclude that kNN is statistically different from Naive Bayes.\")"
   ]
  },
  {
   "cell_type": "markdown",
   "metadata": {},
   "source": [
    "# Ex 2.\n",
    "Using a 80-20 train-test split, vary the number of neighbors of a $kNN$ classifier using \\\n",
    "$k = \\{1, 5, 10, 20, 30\\}$. Additionally, for each $k$, train one classifier using uniform weights \\\n",
    "and distance weights."
   ]
  },
  {
   "cell_type": "markdown",
   "metadata": {},
   "source": [
    "### a)\n",
    "Plot the train and test accuracy for each model"
   ]
  },
  {
   "cell_type": "code",
   "execution_count": null,
   "metadata": {},
   "outputs": [],
   "source": [
    "import pandas as pd\n",
    "import matplotlib.pyplot as plt\n",
    "from sklearn.model_selection import train_test_split\n",
    "from sklearn.metrics import accuracy_score\n",
    "from sklearn.neighbors import KNeighborsClassifier\n",
    "\n",
    "\n",
    "# Create dataframe from heart-disease.csv\n",
    "df = pd.read_csv('./heart-disease.csv', sep=',')\n",
    "\n",
    "X = df.drop('target', axis=1) # Input variables\n",
    "y = df['target'] # Target variable\n",
    "\n",
    "# Split dataset into a 80-20 training set\n",
    "X_train, X_test, y_train, y_test = train_test_split(X.values, y, train_size=0.8, random_state=0)\n",
    "\n",
    "k_values = [1, 5, 10, 20, 30]\n",
    "uni_weights_train_accuracies = []\n",
    "dist_weights_train_accuracies = []\n",
    "\n",
    "uni_weights_test_accuracies = []\n",
    "dist_weights_test_accuracies = []\n",
    "\n",
    "for k in k_values:\n",
    "    # Create classifiers: Uniform weights and Distance weights\n",
    "    uni_weights_clf = KNeighborsClassifier(n_neighbors=k, weights='uniform')\n",
    "    dist_weights_clf = KNeighborsClassifier(n_neighbors=k, weights='distance')\n",
    "\n",
    "    uni_weights_clf.fit(X_train, y_train)\n",
    "    dist_weights_clf.fit(X_train, y_train)\n",
    "\n",
    "    # Calculate training accuracy\n",
    "    uni_weights_train_accuracies.append(accuracy_score(y_train, uni_weights_clf.predict(X_train)))\n",
    "    dist_weights_train_accuracies.append(accuracy_score(y_train, dist_weights_clf.predict(X_train)))\n",
    "\n",
    "    # Calculate testing accuracy\n",
    "    uni_weights_test_accuracies.append(accuracy_score(y_test, uni_weights_clf.predict(X_test)))\n",
    "    dist_weights_test_accuracies.append(accuracy_score(y_test, dist_weights_clf.predict(X_test)))\n",
    "\n",
    "# Plot the figures\n",
    "plt.figure(figsize=(10, 6))\n",
    "plt.plot(k_values, uni_weights_train_accuracies, label='Training Accuracy', marker='o')\n",
    "plt.plot(k_values, uni_weights_test_accuracies, label='Testing Accuracy', marker='o')\n",
    "plt.xlabel('k value')\n",
    "plt.ylabel('Accuracy')\n",
    "plt.legend()\n",
    "plt.grid(True, which='both', linestyle='--', linewidth=0.5, alpha=0.5)\n",
    "plt.title('Training and Testing Accuracy for multiple kNN classifiers with uniform weights')\n",
    "plt.show()\n",
    "\n",
    "plt.figure(figsize=(10, 6))\n",
    "plt.plot(k_values, dist_weights_train_accuracies, label='Training Accuracy', marker='o')\n",
    "plt.plot(k_values, dist_weights_test_accuracies, label='Testing Accuracy', marker='o')\n",
    "plt.xlabel('k value')\n",
    "plt.ylabel('Accuracy')\n",
    "plt.legend()\n",
    "plt.grid(True, which='both', linestyle='--', linewidth=0.5, alpha=0.5)\n",
    "plt.title('Training and Testing Accuracy for multiple kNN classifiers with distance weights')\n",
    "plt.show()"
   ]
  },
  {
   "cell_type": "markdown",
   "metadata": {},
   "source": [
    "### b)\n",
    "Explain the impact of increasing the neighbors on the generalization ability of \\\n",
    "the models.\n",
    "> (**Refer to the report for the explanation**)"
   ]
  },
  {
   "cell_type": "markdown",
   "metadata": {},
   "source": [
    "# Ex 3.\n",
    "Considering the unique properties of the `heart-disease.csv` dataset, identify two\n",
    "possible difficulties of the naïve Bayes model used in the previous exercises when learning\n",
    "from the given dataset.\n",
    "> (**Refer to the report for the explanation**)"
   ]
  },
  {
   "cell_type": "code",
   "execution_count": null,
   "metadata": {},
   "outputs": [],
   "source": [
    "# Countplot\n",
    "\n",
    "import pandas as pd\n",
    "import matplotlib.pyplot as plt\n",
    "import seaborn as sns\n",
    "from scipy.stats import probplot\n",
    "\n",
    "df = pd.read_csv('./heart-disease.csv', sep=',')\n",
    "\n",
    "# SEX: Count Plot\n",
    "plt.figure(figsize=(12, 6))\n",
    "ax = sns.countplot(data=df, x='sex')\n",
    "plt.title('Sample count per sex')\n",
    "plt.xlabel('Sex')\n",
    "plt.ylabel('Count')\n",
    "plt.grid(True, which='both', linestyle='--', linewidth=0.5, alpha=0.5)\n",
    "\n",
    "# Add count labels on top of each bar\n",
    "for p in ax.patches:\n",
    "    ax.annotate(f'{int(p.get_height())}', \n",
    "                (p.get_x() + p.get_width() / 2., p.get_height()), \n",
    "                ha='center', va='bottom')\n",
    "\n",
    "plt.show()\n",
    "\n"
   ]
  }
 ],
 "metadata": {
  "kernelspec": {
   "display_name": "Python 3 (ipykernel)",
   "language": "python",
   "name": "python3"
  },
  "language_info": {
   "codemirror_mode": {
    "name": "ipython",
    "version": 3
   },
   "file_extension": ".py",
   "mimetype": "text/x-python",
   "name": "python",
   "nbconvert_exporter": "python",
   "pygments_lexer": "ipython3",
   "version": "3.11.8"
  }
 },
 "nbformat": 4,
 "nbformat_minor": 4
}
