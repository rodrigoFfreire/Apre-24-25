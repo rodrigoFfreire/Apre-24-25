{
 "cells": [
  {
   "cell_type": "markdown",
   "metadata": {},
   "source": [
    "# Installing Dependencies"
   ]
  },
  {
   "cell_type": "code",
   "execution_count": null,
   "metadata": {},
   "outputs": [],
   "source": [
    "%pip install numpy\n",
    "%pip install pandas\n",
    "%pip install matplotlib\n",
    "%pip install scikit-learn\n",
    "%pip install scipy"
   ]
  },
  {
   "cell_type": "markdown",
   "metadata": {},
   "source": [
    "# Ex 1.\n",
    "\n",
    "Compare the performance of a $kNN$ with $k = 5$ and a naïve Bayes with Gaussian \\\n",
    "assumption (consider all remaining parameters as default):"
   ]
  },
  {
   "cell_type": "markdown",
   "metadata": {},
   "source": [
    "### a)\n",
    "Plot two boxplots with the fold accuracies for each classifier. Is there one \\\n",
    "more stable than the other regarding performance? Why do you think that is the \\\n",
    "case? Explain. \n",
    "> (**Refer to the report for the explanation**)"
   ]
  },
  {
   "cell_type": "code",
   "execution_count": null,
   "metadata": {},
   "outputs": [],
   "source": [
    "# Code for a)"
   ]
  },
  {
   "cell_type": "markdown",
   "metadata": {},
   "source": [
    "### b)\n",
    "Report the accuracy of both models, this time scaling the data with a \\\n",
    "Min-Max scaler before training the models. Explain the impact that this \\\n",
    "preprocessing step has on the performance of each model, providing an \\\n",
    "explanation for the results. \n",
    "> (**Refer to the report for the explanation**)"
   ]
  },
  {
   "cell_type": "code",
   "execution_count": null,
   "metadata": {},
   "outputs": [],
   "source": [
    "# Code for b)"
   ]
  },
  {
   "cell_type": "markdown",
   "metadata": {},
   "source": [
    "### c)\n",
    "Using `scipy`, test the hypothesis “the $kNN$ model is statistically superior to \\\n",
    "naïve Bayes regarding accuracy”, asserting whether it is true.\n",
    "> (**Refer to the report for the explanation**)"
   ]
  },
  {
   "cell_type": "code",
   "execution_count": null,
   "metadata": {},
   "outputs": [],
   "source": [
    "# Code for c)"
   ]
  },
  {
   "cell_type": "markdown",
   "metadata": {},
   "source": [
    "# Ex 2.\n",
    "Using a 80-20 train-test split, vary the number of neighbors of a $kNN$ classifier using \\\n",
    "$k = \\{1, 5, 10, 20, 30\\}$. Additionally, for each $k$, train one classifier using uniform weights \\\n",
    "and distance weights."
   ]
  },
  {
   "cell_type": "markdown",
   "metadata": {},
   "source": [
    "### a)\n",
    "Plot the train and test accuracy for each model"
   ]
  },
  {
   "cell_type": "code",
   "execution_count": null,
   "metadata": {},
   "outputs": [],
   "source": [
    "# Code for a)"
   ]
  },
  {
   "cell_type": "markdown",
   "metadata": {},
   "source": [
    "### b)\n",
    "Explain the impact of increasing the neighbors on the generalization ability of \\\n",
    "the models.\n",
    "> (**Refer to the report for the explanation**)"
   ]
  },
  {
   "cell_type": "markdown",
   "metadata": {},
   "source": [
    "# Ex 3.\n",
    "Considering the unique properties of the `heart-disease.csv` dataset, identify two\n",
    "possible difficulties of the naïve Bayes model used in the previous exercises when learning\n",
    "from the given dataset.\n",
    "> (**Refer to the report for the explanation**)"
   ]
  }
 ],
 "metadata": {
  "kernelspec": {
   "display_name": ".venv",
   "language": "python",
   "name": "python3"
  },
  "language_info": {
   "name": "python",
   "version": "3.12.5"
  }
 },
 "nbformat": 4,
 "nbformat_minor": 2
}
